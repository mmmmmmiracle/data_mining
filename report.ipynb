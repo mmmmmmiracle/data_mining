{
 "cells": [
  {
   "cell_type": "markdown",
   "metadata": {},
   "source": [
    "# 数据挖掘Project\n",
    "\n",
    "## 1.数据收集\n",
    "数据来自阿里天池AI开发者社区的比赛数据，赛题以预测二手车的交易价格为任务，总数据量40w条记录，包含31列变量信息，其中15列为匿名变量。比赛数据是从其中抽取15万条作为训练集，5万条作为测试集A，5万条作为测试集B，并且同时对name、model、brand和regionCode等信息进行了脱敏处理。\n",
    "- 比赛地址：https://tianchi.aliyun.com/competition/entrance/231784/information"
   ]
  },
  {
   "cell_type": "code",
   "execution_count": null,
   "metadata": {},
   "outputs": [],
   "source": []
  }
 ],
 "metadata": {
  "kernelspec": {
   "display_name": "Python 3",
   "language": "python",
   "name": "python3"
  },
  "language_info": {
   "codemirror_mode": {
    "name": "ipython",
    "version": 3
   },
   "file_extension": ".py",
   "mimetype": "text/x-python",
   "name": "python",
   "nbconvert_exporter": "python",
   "pygments_lexer": "ipython3",
   "version": "3.6.9"
  }
 },
 "nbformat": 4,
 "nbformat_minor": 4
}
